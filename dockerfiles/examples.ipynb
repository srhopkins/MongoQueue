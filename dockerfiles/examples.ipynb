{
 "metadata": {
  "name": "",
  "signature": "sha256:0c66ffeb32e9e7230b8d1aff3ea4126660fd44a1d3c07191d205c980fa794017"
 },
 "nbformat": 3,
 "nbformat_minor": 0,
 "worksheets": [
  {
   "cells": [
    {
     "cell_type": "markdown",
     "metadata": {},
     "source": [
      "MongoQueue\n",
      "===\n",
      "Simple queuing using MongoDB backend and a hybrid of Queue and pymongo syntax.\n",
      "\n",
      "Instantiating a Queue\n",
      "---"
     ]
    },
    {
     "cell_type": "code",
     "collapsed": false,
     "input": [
      "from mongoqueue import MongoQueue\n",
      "q = MongoQueue()"
     ],
     "language": "python",
     "metadata": {},
     "outputs": [],
     "prompt_number": 1
    },
    {
     "cell_type": "markdown",
     "metadata": {},
     "source": [
      "Loading with `put`\n",
      "---"
     ]
    },
    {
     "cell_type": "code",
     "collapsed": false,
     "input": [
      "q.put({\"a_list\": [1,2]})\n",
      "q.put({\"a_list\": [3,4]})\n",
      "q.put({\"a_list\": [5,6]})"
     ],
     "language": "python",
     "metadata": {},
     "outputs": [],
     "prompt_number": 2
    },
    {
     "cell_type": "markdown",
     "metadata": {},
     "source": [
      "Getting with `get`\n",
      "---\n",
      "`get()` returns one item from queue, with status set to \"working\", using pymongo `find_and_modify()`. This provides an atomic transaction while avoiding race conditions."
     ]
    },
    {
     "cell_type": "code",
     "collapsed": false,
     "input": [
      "q.get()"
     ],
     "language": "python",
     "metadata": {},
     "outputs": [
      {
       "metadata": {},
       "output_type": "pyout",
       "prompt_number": 3,
       "text": [
        "{u'_id': ObjectId('54da4c213aa23e0052b19c13'),\n",
        " u'a_list': [1, 2],\n",
        " u'status': u'working'}"
       ]
      }
     ],
     "prompt_number": 3
    },
    {
     "cell_type": "markdown",
     "metadata": {},
     "source": [
      "Getting with generator (Lazy Method)\n",
      "---\n",
      "To return a generator ... use `get_generator()`"
     ]
    },
    {
     "cell_type": "code",
     "collapsed": false,
     "input": [
      "for item in q.get_generator():\n",
      "    print item"
     ],
     "language": "python",
     "metadata": {},
     "outputs": [
      {
       "output_type": "stream",
       "stream": "stdout",
       "text": [
        "{u'status': u'working', u'a_list': [3, 4], u'_id': ObjectId('54da4c213aa23e0052b19c14')}\n",
        "{u'status': u'working', u'a_list': [5, 6], u'_id': ObjectId('54da4c213aa23e0052b19c15')}\n"
       ]
      }
     ],
     "prompt_number": 4
    },
    {
     "cell_type": "markdown",
     "metadata": {},
     "source": [
      "Contrived Example\n",
      "---"
     ]
    },
    {
     "cell_type": "code",
     "collapsed": false,
     "input": [
      "fruit_queue = MongoQueue()"
     ],
     "language": "python",
     "metadata": {},
     "outputs": [],
     "prompt_number": 5
    },
    {
     "cell_type": "code",
     "collapsed": false,
     "input": [
      "fruit_queue.put({\"type\": \"apple\"})\n",
      "fruit_queue.put({\"type\": \"apple\"})\n",
      "fruit_queue.put({\"type\": \"orange\"})"
     ],
     "language": "python",
     "metadata": {},
     "outputs": [],
     "prompt_number": 6
    },
    {
     "cell_type": "code",
     "collapsed": false,
     "input": [
      "for fruit in fruit_queue.get_generator():\n",
      "    if fruit[\"type\"] == \"apple\":\n",
      "        fruit[\"type\"] = \"sliced apple\"\n",
      "        fruit_queue.queue.save(fruit)\n",
      "        fruit_queue.done(fruit)\n",
      "    else:\n",
      "        # TODO add status_error\n",
      "        pass"
     ],
     "language": "python",
     "metadata": {},
     "outputs": [],
     "prompt_number": 7
    },
    {
     "cell_type": "markdown",
     "metadata": {},
     "source": [
      "Finding Items in Queue\n",
      "---"
     ]
    },
    {
     "cell_type": "code",
     "collapsed": false,
     "input": [
      "print fruit_queue.find_queued().count()\n",
      "print fruit_queue.find_done().count()\n",
      "print fruit_queue.find_working().count()"
     ],
     "language": "python",
     "metadata": {},
     "outputs": [
      {
       "output_type": "stream",
       "stream": "stdout",
       "text": [
        "0\n",
        "2\n",
        "1\n"
       ]
      }
     ],
     "prompt_number": 8
    },
    {
     "cell_type": "code",
     "collapsed": false,
     "input": [
      "for item in fruit_queue.find():\n",
      "    print item"
     ],
     "language": "python",
     "metadata": {},
     "outputs": [
      {
       "output_type": "stream",
       "stream": "stdout",
       "text": [
        "{u'status': u'done', u'_id': ObjectId('54da4c263aa23e0052b19c17'), u'type': u'sliced apple'}\n",
        "{u'status': u'done', u'_id': ObjectId('54da4c263aa23e0052b19c18'), u'type': u'sliced apple'}\n",
        "{u'status': u'working', u'_id': ObjectId('54da4c263aa23e0052b19c19'), u'type': u'orange'}\n"
       ]
      }
     ],
     "prompt_number": 9
    },
    {
     "cell_type": "markdown",
     "metadata": {},
     "source": [
      "Serialized Objects\n",
      "---\n",
      "\n",
      "You can serialize objects using `bson` `Binary`; below is an example using `cPickle`"
     ]
    },
    {
     "cell_type": "code",
     "collapsed": false,
     "input": [
      "from bson.binary import Binary\n",
      "import cPickle as pickle\n",
      "\n",
      "def say_this(word):\n",
      "    print word  "
     ],
     "language": "python",
     "metadata": {},
     "outputs": [],
     "prompt_number": 10
    },
    {
     "cell_type": "code",
     "collapsed": false,
     "input": [
      "# Serialize it and .put it in queue\n",
      "myfunc = pickle.dumps(say_this)\n",
      "q.put({\"myfunc\": Binary(myfunc),\n",
      "       \"word\": \"bird\"})"
     ],
     "language": "python",
     "metadata": {},
     "outputs": [],
     "prompt_number": 11
    },
    {
     "cell_type": "code",
     "collapsed": false,
     "input": [
      "# .get it back out\n",
      "item = q.get({\"myfunc\": {\"$exists\": True}})"
     ],
     "language": "python",
     "metadata": {},
     "outputs": [],
     "prompt_number": 12
    },
    {
     "cell_type": "code",
     "collapsed": false,
     "input": [
      "# .loads it and run it\n",
      "myfunc = pickle.loads(item[\"myfunc\"])\n",
      "myfunc(item[\"word\"])"
     ],
     "language": "python",
     "metadata": {},
     "outputs": [
      {
       "output_type": "stream",
       "stream": "stdout",
       "text": [
        "bird\n"
       ]
      }
     ],
     "prompt_number": 13
    },
    {
     "cell_type": "markdown",
     "metadata": {},
     "source": [
      "Authentication and Special Client Use Cases\n",
      "---\n",
      "By default MongoQueue trys to be a simple as possible to invoke `q = MongoQueue` but you may need to connect to replica sets or require authentication in you environment.\n",
      "\n",
      "MongoQueue accepts both `MongoClient`, `MongoReplicaSetClient` instances on invocation as well."
     ]
    },
    {
     "cell_type": "code",
     "collapsed": false,
     "input": [],
     "language": "python",
     "metadata": {},
     "outputs": []
    }
   ],
   "metadata": {}
  }
 ]
}
