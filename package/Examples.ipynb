{
 "cells": [
  {
   "cell_type": "code",
   "execution_count": 1,
   "metadata": {
    "collapsed": false
   },
   "outputs": [
    {
     "name": "stdout",
     "output_type": "stream",
     "text": [
      "Collecting pymongo>=1.8 (from -r requirements.txt (line 1))\n",
      "/usr/local/lib/python2.7/dist-packages/pip/_vendor/requests/packages/urllib3/util/ssl_.py:90: InsecurePlatformWarning: A true SSLContext object is not available. This prevents urllib3 from configuring SSL appropriately and may cause certain SSL connections to fail. For more information, see https://urllib3.readthedocs.org/en/latest/security.html#insecureplatformwarning.\n",
      "  InsecurePlatformWarning\n",
      "  Downloading pymongo-3.2.1.tar.gz (647kB)\n",
      "\u001b[K    100% |████████████████████████████████| 651kB 1.0MB/s \n",
      "\u001b[?25hBuilding wheels for collected packages: pymongo\n",
      "  Running setup.py bdist_wheel for pymongo\n",
      "  Stored in directory: /root/.cache/pip/wheels/ad/32/68/58a7dca0d0e24250de9950e2cfb2f3dd99033d31ec8cc68aae\n",
      "Successfully built pymongo\n",
      "Installing collected packages: pymongo\n",
      "Successfully installed pymongo-3.2.1\n",
      "/usr/local/lib/python2.7/dist-packages/pip/_vendor/requests/packages/urllib3/util/ssl_.py:90: InsecurePlatformWarning: A true SSLContext object is not available. This prevents urllib3 from configuring SSL appropriately and may cause certain SSL connections to fail. For more information, see https://urllib3.readthedocs.org/en/latest/security.html#insecureplatformwarning.\n",
      "  InsecurePlatformWarning\n",
      "\u001b[33mYou are using pip version 7.1.2, however version 8.0.2 is available.\n",
      "You should consider upgrading via the 'pip install --upgrade pip' command.\u001b[0m\n"
     ]
    }
   ],
   "source": [
    "!pip2 install -r requirements.txt"
   ]
  },
  {
   "cell_type": "code",
   "execution_count": 1,
   "metadata": {
    "collapsed": true
   },
   "outputs": [],
   "source": [
    "from mongoku import MongoQueue"
   ]
  },
  {
   "cell_type": "code",
   "execution_count": 2,
   "metadata": {
    "collapsed": true
   },
   "outputs": [],
   "source": [
    "q = MongoQueue(\"172.17.0.3\")"
   ]
  },
  {
   "cell_type": "code",
   "execution_count": 3,
   "metadata": {
    "collapsed": false
   },
   "outputs": [],
   "source": [
    "q.put({\"hello\": \"world\"})\n",
    "q.put([\"one\", \"two\", \"three\"])\n",
    "q.put(\"hello world!\")\n",
    "q.put(100)"
   ]
  },
  {
   "cell_type": "code",
   "execution_count": 4,
   "metadata": {
    "collapsed": false
   },
   "outputs": [
    {
     "name": "stdout",
     "output_type": "stream",
     "text": [
      "{u'item': {u'hello': u'world'}, u'_id': ObjectId('56b8ef21221336006d5a7021'), u'meta': {u'status': u'queued'}}\n",
      "{u'item': [u'one', u'two', u'three'], u'_id': ObjectId('56b8ef21221336006d5a7022'), u'meta': {u'status': u'queued'}}\n",
      "{u'item': u'hello world!', u'_id': ObjectId('56b8ef21221336006d5a7023'), u'meta': {u'status': u'queued'}}\n",
      "{u'item': 100, u'_id': ObjectId('56b8ef21221336006d5a7024'), u'meta': {u'status': u'queued'}}\n"
     ]
    }
   ],
   "source": [
    "for item in q.find():\n",
    "    print item"
   ]
  },
  {
   "cell_type": "code",
   "execution_count": 5,
   "metadata": {
    "collapsed": false
   },
   "outputs": [
    {
     "data": {
      "text/plain": [
       "4"
      ]
     },
     "execution_count": 5,
     "metadata": {},
     "output_type": "execute_result"
    }
   ],
   "source": [
    "q.queue.count()"
   ]
  },
  {
   "cell_type": "code",
   "execution_count": 6,
   "metadata": {
    "collapsed": false
   },
   "outputs": [
    {
     "name": "stdout",
     "output_type": "stream",
     "text": [
      "{u'hello': u'world'}\n",
      "[u'one', u'two', u'three']\n",
      "hello world!\n",
      "100\n"
     ]
    }
   ],
   "source": [
    "for item in q.gets():\n",
    "    print item.item"
   ]
  },
  {
   "cell_type": "code",
   "execution_count": null,
   "metadata": {
    "collapsed": true
   },
   "outputs": [],
   "source": []
  }
 ],
 "metadata": {
  "kernelspec": {
   "display_name": "Python 2",
   "language": "python",
   "name": "python2"
  },
  "language_info": {
   "codemirror_mode": {
    "name": "ipython",
    "version": 2
   },
   "file_extension": ".py",
   "mimetype": "text/x-python",
   "name": "python",
   "nbconvert_exporter": "python",
   "pygments_lexer": "ipython2",
   "version": "2.7.6"
  }
 },
 "nbformat": 4,
 "nbformat_minor": 0
}
